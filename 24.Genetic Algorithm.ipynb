{
 "cells": [
  {
   "cell_type": "markdown",
   "metadata": {},
   "source": [
    "The genetic algorithm is a computer approximation of how evolution performs research, which involves making changes to the parent genomes in their offspring and thus producing new individuals with different abilities. \n",
    "\n",
    "In this file, we will build a genetic algorithm with Python by solving a real-time case study."
   ]
  },
  {
   "cell_type": "markdown",
   "metadata": {},
   "source": [
    "### How does a Genetic Algorithm work?\n",
    "\n",
    "Like other mathematical models such as neurons, a genetic algorithm tries to ignore everything except the important parts that we need to understand what evolution does. From this principle, the elements we need to model a simple genetic algorithm inside a computer and solve problems with it are:\n",
    "\n",
    "* a method of representing problems in the form of chromosomes.\n",
    "* a way to calculate the adequacy of a solution.\n",
    "* a selection method for choosing parents.\n",
    "* a way to generate offspring by raising parents.\n",
    "\n",
    "We now have understood what a genetic algorithm is. Now let’s head over to a case study to get into a situation where we can build our genetic algorithm."
   ]
  },
  {
   "cell_type": "markdown",
   "metadata": {},
   "source": [
    "### Case Study Based on a Genetic Algorithm:\n",
    "\n",
    "We have **[X] MP3 files** on our computer hard drive. Unfortunately, the hard drive started making noise and we decide that we had better save the **MP3s**. Likewise, unfortunately, we can only **burn CDs, not DVDs**, on our computer. We need to **minimize the number of CDs we use, so we decide to design a genetic algorithm to choose which MP3s to put on each CD to fill each CD as completely as possible**. Design a genetic algorithm to solve the problem. \n",
    "\n",
    "We will need to think about how we would encode the entries, the appropriate genetic operators, and how we would make the genetic algorithm handle the fact that we have multiple CDs, not just one CD.\n",
    "\n",
    "The first thing we need to look at is how to represent the problem in the form of chromosomes. As we are having **[X] number of files**. We should build a binary chromosome where \n",
    "* `1` means a particular MP3 is taken from the chromosome while \n",
    "* `0` means it is not. \n",
    "\n",
    "The position of this bit will indicate which MP3 we will start with."
   ]
  },
  {
   "cell_type": "markdown",
   "metadata": {},
   "source": [
    "### Building a Genetic Algorithm"
   ]
  },
  {
   "cell_type": "code",
   "execution_count": 1,
   "metadata": {},
   "outputs": [],
   "source": [
    "import numpy as np\n",
    "import random\n",
    "\n",
    "def generateParents(size):\n",
    "    parents = np.array(random.randint(0, 2**size - 1))\n",
    "    for i in range(1, population):\n",
    "        parents = np.append(parents, random.randint(0, 2**size - 1))\n",
    "    return parents"
   ]
  },
  {
   "cell_type": "markdown",
   "metadata": {},
   "source": [
    "* `GenerateParents` is our parent generation function. Since this is the easiest to do, we’ll do it first. \n",
    "* The `population` will contain the total number of descendants that each generation will have and for the first generation, this will be the total number of randomly generated parents. \n",
    "* `size` contains the current total number of MP3s being processed."
   ]
  },
  {
   "cell_type": "code",
   "execution_count": 2,
   "metadata": {},
   "outputs": [],
   "source": [
    "def totalSize(data, size):\n",
    "    s = 0\n",
    "    for i in range(0, size-1):\n",
    "        if(data & (1 << i) > 0):\n",
    "            s += mp3s[i]\n",
    "    return s"
   ]
  },
  {
   "cell_type": "markdown",
   "metadata": {},
   "source": [
    "* `totalSize` is a simple function that measures the total space used by all selected MP3s in that particular chromosome (data). \n",
    "* `size` contains the current total number of MP3s being processed. For each bit of the chromosome, we check if there is one and if so, we increment `s` by the size of the MP3 file corresponding to that bit."
   ]
  },
  {
   "cell_type": "code",
   "execution_count": 3,
   "metadata": {},
   "outputs": [],
   "source": [
    "def reduceSize(rec, size):\n",
    "    while totalSize(rec, size) > 700:\n",
    "        index = random.randint(0, size - 1)\n",
    "        if(rec & (1 << index) > 0):\n",
    "            rec = rec ^ (1 << index)\n",
    "    return rec"
   ]
  },
  {
   "cell_type": "markdown",
   "metadata": {},
   "source": [
    "* `reduceSize` is the function we use to randomly mutate the chromosome in a way that reduces the total size of the MP3 files described by that chromosome to fit on a CD. \n",
    "* So as long as the total chromosome **size exceeds 700**, we choose a random bit and if it is `1`, we change it to `0`."
   ]
  },
  {
   "cell_type": "code",
   "execution_count": 4,
   "metadata": {},
   "outputs": [],
   "source": [
    "def mutate(rec, size):\n",
    "    index = random.randint(0, size - 1)\n",
    "    rec = rec ^ (1 << index)\n",
    "    return rec"
   ]
  },
  {
   "cell_type": "markdown",
   "metadata": {},
   "source": [
    "* `mutate` is our mutating function. Mutations happen in real life when new descendants are created, usually, mutations would have a mutation rate, but we are omitting that in this file for simplicity. \n",
    "* Our mutation function selects a bit at random and changes its value."
   ]
  },
  {
   "cell_type": "code",
   "execution_count": 5,
   "metadata": {},
   "outputs": [],
   "source": [
    "def fixChromosomes(data, size, population):\n",
    "    datasize = data.shape[0]\n",
    "    fitness = np.zeros((datasize,1), dtype=int)\n",
    "    for i in range(0, datasize):\n",
    "        rec = data[i]\n",
    "        if(totalSize(rec, size) > 700):\n",
    "            rec = reduceSize(rec, size)\n",
    "            data[i] = rec\n",
    "        fitness[i] = -1* totalSize(data[i], size)\n",
    "    data = np.transpose(np.array([data]))\n",
    "    generation = np.concatenate((data, fitness), axis=1)\n",
    "    generation = generation[generation[:population, 1].argsort()]\n",
    "    return generation"
   ]
  },
  {
   "cell_type": "markdown",
   "metadata": {},
   "source": [
    "* `fixChromosomes` will take the data and apply it to the `reduceSize` function to the chromosomes as needed. \n",
    "* It also applies the `fitness` function and adds it to the **generation data** so that each chromosome has a corresponding fitness. This is also sorted so that those above have the best physical shape."
   ]
  },
  {
   "cell_type": "code",
   "execution_count": 6,
   "metadata": {},
   "outputs": [],
   "source": [
    "def crossover(mom, dad, size):\n",
    "    index = random.randint(1, size - 1)\n",
    "    mom1 = mom & (2**index -1)\n",
    "    mom2 = mom & ((2**(size-index) -1) << index)\n",
    "    dad1 = dad & (2**index -1)\n",
    "    dad2 = dad & ((2**(size-index) -1) << index)\n",
    "    return mutate(mom1|dad2, size), mutate(dad1|mom2, size)"
   ]
  },
  {
   "cell_type": "markdown",
   "metadata": {},
   "source": [
    "* The `crossover` function takes 2 parents and performs a random cross between their chromosomes. \n",
    "* It chooses a random index `i` and divides mum and dad on the `i-th` index then crosses combines them both to generate 2 children. These children are then mutated by the mutation function."
   ]
  },
  {
   "cell_type": "code",
   "execution_count": 7,
   "metadata": {},
   "outputs": [],
   "source": [
    "def newGeneration(generation, size):\n",
    "    top4 = generation[:4, 0]\n",
    "    newGen = generation[:2,0]\n",
    "    for i in range(0, 4):\n",
    "        for j in range(0, 4):\n",
    "            if(i != j):\n",
    "                c1, c2 = crossover(top4[i], top4[j], size)\n",
    "                newGen = np.append(newGen, c1)\n",
    "                newGen = np.append(newGen, c2)\n",
    "                #print(newGen)\n",
    "    return newGen"
   ]
  },
  {
   "cell_type": "markdown",
   "metadata": {},
   "source": [
    "* The `newGeneration` function takes the current generation and produces the next generation. This is done by taking the 4 best parents in terms of fitness and crossing each pair of them to generate new offspring.\n",
    "\n",
    "However, due to the particular configuration of the problem, we are very likely to have a near-optimal solution straight out of the first generation due to the randomness and our reduction feature. For this reason, we can add the top 2 parents to the new generation to ensure that we don’t lose the optimal results created in previous generations."
   ]
  },
  {
   "cell_type": "markdown",
   "metadata": {},
   "source": [
    "### Train Our Algorithm\n",
    "\n",
    "The train function is where everything comes together. **mp3Cnt** contains the total number of MP3 files that have not yet been classified on a CD. Every time we process the generation cycle we find a chromosome that best matches the current CD that we are working on."
   ]
  },
  {
   "cell_type": "code",
   "execution_count": 8,
   "metadata": {},
   "outputs": [],
   "source": [
    "def train(mp3Cnt, mp3s, population, generationsPerCD):\n",
    "    curCD = 1\n",
    "    combinedSizes = totalSize(2**mp3Cnt-1, mp3Cnt)\n",
    "    doneSizes = 0.0\n",
    "    while(True):\n",
    "        if(mp3Cnt == 0):\n",
    "            break\n",
    "        parents = generateParents(mp3Cnt)\n",
    "        generation = fixChromosomes(parents, mp3Cnt, population)\n",
    "        ng = generation\n",
    "        for i in range(generationsPerCD):\n",
    "            ng = newGeneration(ng, mp3Cnt)\n",
    "            ng = fixChromosomes(ng, mp3Cnt, population)\n",
    "        allFileSize = totalSize(2**mp3Cnt-1, mp3Cnt)\n",
    "        cdContents = ng[0,0]\n",
    "        if(allFileSize < 700):\n",
    "            cdContents = 2**mp3Cnt -1\n",
    "        currentBestCDSize = totalSize(cdContents, mp3Cnt)\n",
    "        if(currentBestCDSize >= 699 or allFileSize < 700):\n",
    "            indexesToRemove = []\n",
    "            for i in range(0, mp3Cnt):\n",
    "                if(cdContents & (1 << i) > 0):\n",
    "                    indexesToRemove.append(i)\n",
    "            indexesToRemove = list(reversed(indexesToRemove))\n",
    "            doneSizes += currentBestCDSize\n",
    "            print(\"CD\"+ str(curCD) + \": MP3 Count:\" + str(len(indexesToRemove)) + \" Size: \" + str(currentBestCDSize))\n",
    "            mp3Cnt = mp3Cnt - len(indexesToRemove)\n",
    "            for i in range(len(indexesToRemove)):\n",
    "                mp3s = np.delete(mp3s, indexesToRemove[i])\n",
    "            curCD = curCD + 1\n",
    "        else:\n",
    "            continue"
   ]
  },
  {
   "cell_type": "code",
   "execution_count": null,
   "metadata": {},
   "outputs": [],
   "source": []
  }
 ],
 "metadata": {
  "kernelspec": {
   "display_name": "Python 3",
   "language": "python",
   "name": "python3"
  },
  "language_info": {
   "codemirror_mode": {
    "name": "ipython",
    "version": 3
   },
   "file_extension": ".py",
   "mimetype": "text/x-python",
   "name": "python",
   "nbconvert_exporter": "python",
   "pygments_lexer": "ipython3",
   "version": "3.7.6"
  }
 },
 "nbformat": 4,
 "nbformat_minor": 4
}
