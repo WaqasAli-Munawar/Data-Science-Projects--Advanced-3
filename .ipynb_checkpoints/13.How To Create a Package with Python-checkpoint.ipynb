{
 "cells": [
  {
   "cell_type": "markdown",
   "metadata": {},
   "source": [
    "For all the hype around packages, a python package is a pretty straightforward thing. It’s just a file with a `.py` extension that contains Python code. \n",
    "\n",
    "So every time we write Python code and save it to a `.py` file, we are creating a package. This doesn’t mean that we should always use this code as a package. It can certainly be treated as a stand-alone application. But if we wanted to create a package with python, with just code that we often need in our job, we can do it. \n",
    "\n",
    "In this file, we’ll create a package with Python."
   ]
  },
  {
   "cell_type": "markdown",
   "metadata": {},
   "source": [
    "### Create A Package with Python\n",
    "\n",
    "A python package is just a file with a `.py` filename extension. The name of the package is the same as the name of the file (without the `.py`). Like any `.py` file, the package contains Python code. Now let’s move forward with to create a package with python."
   ]
  },
  {
   "cell_type": "markdown",
   "metadata": {},
   "source": [
    "We will use three names to create a package with python, they are explained as follows:\n",
    "\n",
    "* `to_date(any_str)`: Allows us to pass any date string (any_str) in the format `mm / dd / yy` or `mm / dd / yyyy` and returns a Python `datetime.date` that we can use for date calculations.\n",
    "* `mdy(any_date)`: Allows us to pass any Python date or date / time and returns a date string formatted in `mm / dd / yyyy` format for display on the screen.\n",
    "* `to_curr(any_num, len)`: Allows us to pass any Python floating-point or integer number and returns a string with a dollar sign at the beginning, commas in thousands of places, and two digits for pennies. The len is an optional number for the length. If provided, the return value will be padded on the left with spaces to match the specified length."
   ]
  },
  {
   "cell_type": "markdown",
   "metadata": {},
   "source": [
    "So here is the full code of `.py` file to create a package with python:"
   ]
  },
  {
   "cell_type": "code",
   "execution_count": 3,
   "metadata": {},
   "outputs": [],
   "source": [
    "# Contains custom functions for dates and currency values.\n",
    "import datetime as dt\n",
    "\n",
    "def to_date(any_str):\n",
    "  try:\n",
    "    if len(any_str) == 10:\n",
    "      the_date = dt.datetime.strptime(any_str,'%m/%d/%Y').date()\n",
    "    else:\n",
    "      the_date = dt.datetime.strptime(any_str,'%m/%d/%y').date()\n",
    "  except (ValueError, TypeError):\n",
    "    the_date = None\n",
    "  return the_date\n",
    "\n",
    "def mdy(any_date):\n",
    "  if type(any_date) == str:\n",
    "    any_date = to_date(anydate)\n",
    "    if isinstance(any_date,dt.date):\n",
    "      s_date = f\"{any_date:'%m/%d/%Y'}\"\n",
    "  else:\n",
    "    s_date = \"Invalid date\"\n",
    "  return s_date\n",
    "\n",
    "def to_curr(anynum, len=0):\n",
    "  s = \"Invalid amount\"\n",
    "  try:\n",
    "    x = float(anynum)\n",
    "  except ValueError:\n",
    "    x= None\n",
    "    if isinstance(x,float):\n",
    "      s = '$' + f\"{x:,.2f}\"\n",
    "      if len > 0:\n",
    "        s=s.rjust(len)\n",
    "    return s"
   ]
  },
  {
   "cell_type": "markdown",
   "metadata": {},
   "source": [
    "We can then create the same file ourself and name it **myfunctions.py** if we want to track. Note that the file only contains functions. So if we run it, it won’t do anything on the screen because no code calls any of these functions.\n",
    "\n",
    "Now as we are done to create a package with python. Next thing to do is to use these functions in a Python application or any program we will write, but first, be sure to copy this `myfunc.py` file to the same folder as the rest of the Python code we write. Then when we create a new page we can import **myfunc** as a package just like we would any other package created by someone else and then just use:"
   ]
  },
  {
   "cell_type": "markdown",
   "metadata": {},
   "source": [
    "`import myfunc`\n",
    "\n",
    "We will need to use the package name in front of one of the functions we call from this python package. So if we want to make the code a bit more readable, we can use this instead:\n",
    "\n",
    "`import myfunc as my`\n",
    "\n",
    "With this as the opening line, we can refer to any function in our custom package with **my** as a prefix. For example, `my.to_date()` to call the **to_date** function. Here is the code that imports the python package, then tests all three functions using my syntax:"
   ]
  },
  {
   "cell_type": "raw",
   "metadata": {},
   "source": [
    "# Import all the code from myfunc.py as my.\n",
    "import myfunc as my\n",
    "# Need dates in this code\n",
    "from datetime import datetime as dt\n",
    "# Some simple test data.\n",
    "string_date=\"12/31/2019\"\n",
    "# Convert string date to datetime.date\n",
    "print(my.to_date(string_date))\n",
    "today = dt.today()\n",
    "# Show today's date in mm/dd/yyyy format.\n",
    "print(my.mdy(today))\n",
    "dollar_amt=12345.678\n",
    "# Show this big number in currency format.\n",
    "print(my.to_curr(dollar_amt))"
   ]
  },
  {
   "cell_type": "code",
   "execution_count": null,
   "metadata": {},
   "outputs": [],
   "source": []
  }
 ],
 "metadata": {
  "kernelspec": {
   "display_name": "Python 3",
   "language": "python",
   "name": "python3"
  },
  "language_info": {
   "codemirror_mode": {
    "name": "ipython",
    "version": 3
   },
   "file_extension": ".py",
   "mimetype": "text/x-python",
   "name": "python",
   "nbconvert_exporter": "python",
   "pygments_lexer": "ipython3",
   "version": "3.7.6"
  }
 },
 "nbformat": 4,
 "nbformat_minor": 4
}
