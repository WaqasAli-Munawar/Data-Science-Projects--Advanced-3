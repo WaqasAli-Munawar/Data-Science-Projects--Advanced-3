{
 "cells": [
  {
   "cell_type": "markdown",
   "metadata": {},
   "source": [
    "In this file, we will train a model to predict weather with machine learning. We will act as if we do not have access to the weather forecast. We have access to a century of historical averages of global temperatures including;\n",
    "* global maximum temperatures, \n",
    "* global minimum temperatures, and\n",
    "* global land and ocean temperatures. \n",
    "\n",
    "Having all this, we know that this is a supervised regression machine learning problem."
   ]
  },
  {
   "cell_type": "markdown",
   "metadata": {},
   "source": [
    "### Weather Dataset to Predict Weather\n",
    "\n",
    "The data we are using to predict weather was created from one of the most prestigious research universities in the world. We will assume that the data in the dataset is true. \n",
    "\n",
    "Now, let’s get started with reading the dataset:"
   ]
  },
  {
   "cell_type": "code",
   "execution_count": 18,
   "metadata": {},
   "outputs": [
    {
     "name": "stdout",
     "output_type": "stream",
     "text": [
      "(3192, 9)\n",
      "Index(['dt', 'LandAverageTemperature', 'LandAverageTemperatureUncertainty',\n",
      "       'LandMaxTemperature', 'LandMaxTemperatureUncertainty',\n",
      "       'LandMinTemperature', 'LandMinTemperatureUncertainty',\n",
      "       'LandAndOceanAverageTemperature',\n",
      "       'LandAndOceanAverageTemperatureUncertainty'],\n",
      "      dtype='object')\n",
      "<class 'pandas.core.frame.DataFrame'>\n",
      "RangeIndex: 3192 entries, 0 to 3191\n",
      "Data columns (total 9 columns):\n",
      " #   Column                                     Non-Null Count  Dtype  \n",
      "---  ------                                     --------------  -----  \n",
      " 0   dt                                         3192 non-null   object \n",
      " 1   LandAverageTemperature                     3180 non-null   float64\n",
      " 2   LandAverageTemperatureUncertainty          3180 non-null   float64\n",
      " 3   LandMaxTemperature                         1992 non-null   float64\n",
      " 4   LandMaxTemperatureUncertainty              1992 non-null   float64\n",
      " 5   LandMinTemperature                         1992 non-null   float64\n",
      " 6   LandMinTemperatureUncertainty              1992 non-null   float64\n",
      " 7   LandAndOceanAverageTemperature             1992 non-null   float64\n",
      " 8   LandAndOceanAverageTemperatureUncertainty  1992 non-null   float64\n",
      "dtypes: float64(8), object(1)\n",
      "memory usage: 224.6+ KB\n",
      "None\n",
      "dt                                              0\n",
      "LandAverageTemperature                         12\n",
      "LandAverageTemperatureUncertainty              12\n",
      "LandMaxTemperature                           1200\n",
      "LandMaxTemperatureUncertainty                1200\n",
      "LandMinTemperature                           1200\n",
      "LandMinTemperatureUncertainty                1200\n",
      "LandAndOceanAverageTemperature               1200\n",
      "LandAndOceanAverageTemperatureUncertainty    1200\n",
      "dtype: int64\n"
     ]
    }
   ],
   "source": [
    "import pandas as pd\n",
    "\n",
    "global_temp = pd.read_csv(\"GlobalTemperatures.csv\")\n",
    "\n",
    "print(global_temp.shape)\n",
    "print(global_temp.columns)\n",
    "print(global_temp.info())\n",
    "print(global_temp.isnull().sum())"
   ]
  },
  {
   "cell_type": "markdown",
   "metadata": {},
   "source": [
    "### Data Preparation\n",
    "\n",
    "Unfortunately, we’re not quite at the point where we can just feed the raw data into a model and have it send back a response. We will need to make some minor edits to put our data in a machine learning model.\n",
    "\n",
    "The exact steps in data preparation will depend on the model used and the data collected, but some amount of data manipulation will be required. \n",
    "\n",
    "First, we’ll create a function to convert temperature:"
   ]
  },
  {
   "cell_type": "code",
   "execution_count": 19,
   "metadata": {},
   "outputs": [],
   "source": [
    "def converttemp(x):\n",
    "    x = (x * 1.8) + 32\n",
    "    return float(x)"
   ]
  },
  {
   "cell_type": "markdown",
   "metadata": {},
   "source": [
    "Next we will create a function called `wrangle()` in which we’ll call our dataframe and to convert the columns into DateTime object.\n",
    "\n",
    "We want to make a copy of the dataframe so as not to corrupt the original. After that, we are going to remove the columns that have high cardinality.\n",
    "* High cardinality refers to columns whose values are very rare or unique. \n",
    "\n",
    "Given the frequency of high cardinality data in most time-series datasets, we will solve this problem directly by completely removing these high cardinality columns from our dataset so as not to confuse our model in the future. \n"
   ]
  },
  {
   "cell_type": "code",
   "execution_count": 21,
   "metadata": {},
   "outputs": [],
   "source": [
    "#Data Preparation\n",
    "def wrangle(df):\n",
    "    df = df.copy()\n",
    "    df = df.drop(columns=[\"LandAverageTemperatureUncertainty\", \n",
    "                          \"LandMaxTemperatureUncertainty\",\n",
    "                          \"LandMinTemperatureUncertainty\", \n",
    "                          \"LandAndOceanAverageTemperatureUncertainty\"], \n",
    "                 axis=1)\n",
    "    df[\"LandAverageTemperature\"] = df[\"LandAverageTemperature\"].apply(converttemp)\n",
    "    df[\"LandMaxTemperature\"] = df[\"LandMaxTemperature\"].apply(converttemp)\n",
    "    df[\"LandMinTemperature\"] = df[\"LandMinTemperature\"].apply(converttemp)\n",
    "    df[\"LandAndOceanAverageTemperature\"] = df[\"LandAndOceanAverageTemperature\"].apply(converttemp)\n",
    "    df[\"dt\"] = pd.to_datetime(df[\"dt\"])\n",
    "    df[\"Month\"] = df[\"dt\"].dt.month\n",
    "    df[\"Year\"] = df[\"dt\"].dt.year\n",
    "    df = df.drop(\"dt\", axis=1)\n",
    "    df = df.drop(\"Month\", axis=1)\n",
    "    df = df[df.Year >= 1850]\n",
    "    df = df.set_index([\"Year\"])\n",
    "    df = df.dropna()\n",
    "    return df"
   ]
  },
  {
   "cell_type": "code",
   "execution_count": 22,
   "metadata": {},
   "outputs": [],
   "source": [
    "global_temp = wrangle(global_temp)"
   ]
  },
  {
   "cell_type": "code",
   "execution_count": 23,
   "metadata": {},
   "outputs": [
    {
     "data": {
      "text/html": [
       "<div>\n",
       "<style scoped>\n",
       "    .dataframe tbody tr th:only-of-type {\n",
       "        vertical-align: middle;\n",
       "    }\n",
       "\n",
       "    .dataframe tbody tr th {\n",
       "        vertical-align: top;\n",
       "    }\n",
       "\n",
       "    .dataframe thead th {\n",
       "        text-align: right;\n",
       "    }\n",
       "</style>\n",
       "<table border=\"1\" class=\"dataframe\">\n",
       "  <thead>\n",
       "    <tr style=\"text-align: right;\">\n",
       "      <th></th>\n",
       "      <th>LandAverageTemperature</th>\n",
       "      <th>LandMaxTemperature</th>\n",
       "      <th>LandMinTemperature</th>\n",
       "      <th>LandAndOceanAverageTemperature</th>\n",
       "    </tr>\n",
       "    <tr>\n",
       "      <th>Year</th>\n",
       "      <th></th>\n",
       "      <th></th>\n",
       "      <th></th>\n",
       "      <th></th>\n",
       "    </tr>\n",
       "  </thead>\n",
       "  <tbody>\n",
       "    <tr>\n",
       "      <th>1850</th>\n",
       "      <td>33.3482</td>\n",
       "      <td>46.8356</td>\n",
       "      <td>26.2292</td>\n",
       "      <td>55.0994</td>\n",
       "    </tr>\n",
       "    <tr>\n",
       "      <th>1850</th>\n",
       "      <td>37.5278</td>\n",
       "      <td>49.9460</td>\n",
       "      <td>27.8762</td>\n",
       "      <td>56.4584</td>\n",
       "    </tr>\n",
       "    <tr>\n",
       "      <th>1850</th>\n",
       "      <td>40.9172</td>\n",
       "      <td>50.6246</td>\n",
       "      <td>28.5710</td>\n",
       "      <td>57.2774</td>\n",
       "    </tr>\n",
       "    <tr>\n",
       "      <th>1850</th>\n",
       "      <td>44.9906</td>\n",
       "      <td>55.2812</td>\n",
       "      <td>33.8324</td>\n",
       "      <td>58.4006</td>\n",
       "    </tr>\n",
       "    <tr>\n",
       "      <th>1850</th>\n",
       "      <td>50.0072</td>\n",
       "      <td>60.1790</td>\n",
       "      <td>38.8598</td>\n",
       "      <td>59.9126</td>\n",
       "    </tr>\n",
       "  </tbody>\n",
       "</table>\n",
       "</div>"
      ],
      "text/plain": [
       "      LandAverageTemperature  LandMaxTemperature  LandMinTemperature  \\\n",
       "Year                                                                   \n",
       "1850                 33.3482             46.8356             26.2292   \n",
       "1850                 37.5278             49.9460             27.8762   \n",
       "1850                 40.9172             50.6246             28.5710   \n",
       "1850                 44.9906             55.2812             33.8324   \n",
       "1850                 50.0072             60.1790             38.8598   \n",
       "\n",
       "      LandAndOceanAverageTemperature  \n",
       "Year                                  \n",
       "1850                         55.0994  \n",
       "1850                         56.4584  \n",
       "1850                         57.2774  \n",
       "1850                         58.4006  \n",
       "1850                         59.9126  "
      ]
     },
     "execution_count": 23,
     "metadata": {},
     "output_type": "execute_result"
    }
   ],
   "source": [
    "global_temp.head()"
   ]
  },
  {
   "cell_type": "markdown",
   "metadata": {},
   "source": [
    "After calling our wrangle function to our `global_temp` dataframe, we can now see a new cleaned-up version of our `global_temp` dataframe with no missing values."
   ]
  },
  {
   "cell_type": "markdown",
   "metadata": {},
   "source": [
    "### Visualization\n",
    "\n",
    "Before moving forward with training a model to predict weather, let’s visualize this data to find correlations between the data:"
   ]
  },
  {
   "cell_type": "code",
   "execution_count": 24,
   "metadata": {},
   "outputs": [
    {
     "data": {
      "image/png": "[encoded data removed]",
      "text/plain": [
       "<Figure size 432x288 with 2 Axes>"
      ]
     },
     "metadata": {
      "needs_background": "light"
     },
     "output_type": "display_data"
    }
   ],
   "source": [
    "import seaborn as sns\n",
    "import matplotlib.pyplot as plt\n",
    "corrMatrix = global_temp.corr()\n",
    "sns.heatmap(corrMatrix, annot=True)\n",
    "plt.show()"
   ]
  },
  {
   "cell_type": "markdown",
   "metadata": {},
   "source": [
    "As we can see, and as some of us have probably guessed, the columns that we have chosen to keep moving forward are highly correlated with each other.\n",
    "\n",
    "### Separating Our Target to Predict Weather\n",
    "\n",
    "Now we need to separate the data into features and targets. \n",
    "* The target, also called **Y**, is the value we want to predict, in this case, the actual average land and ocean temperature and \n",
    "* features are all the columns the model uses to make a prediction:"
   ]
  },
  {
   "cell_type": "code",
   "execution_count": 25,
   "metadata": {},
   "outputs": [],
   "source": [
    "target = \"LandAndOceanAverageTemperature\"\n",
    "y = global_temp[target]\n",
    "x = global_temp[[\"LandAverageTemperature\", \"LandMaxTemperature\", \"LandMinTemperature\"]]"
   ]
  },
  {
   "cell_type": "markdown",
   "metadata": {},
   "source": [
    "### Train Test Split\n",
    "\n",
    "To create a model to predict weather we need to split the data by using the `train_test_split` method provided by scikit-learn:"
   ]
  },
  {
   "cell_type": "code",
   "execution_count": 26,
   "metadata": {},
   "outputs": [
    {
     "name": "stdout",
     "output_type": "stream",
     "text": [
      "(1494, 3)\n",
      "(498, 3)\n",
      "(1494,)\n",
      "(498,)\n"
     ]
    }
   ],
   "source": [
    "from sklearn.model_selection import train_test_split\n",
    "xtrain, xval, ytrain, yval = train_test_split(x, y, test_size=0.25, random_state=42)\n",
    "print(xtrain.shape)\n",
    "print(xval.shape)\n",
    "print(ytrain.shape)\n",
    "print(yval.shape)"
   ]
  },
  {
   "cell_type": "markdown",
   "metadata": {},
   "source": [
    "### Baseline Mean Absolute Error\n",
    "\n",
    "Before we can make and evaluate any predictions on our machine learning model to predict weather, we need to establish a baseline, a sane metric that we hope to beat with our model. If our model cannot improve from the baseline then it will fail and we should try a different model or admit that machine learning is not suitable for our problem:"
   ]
  },
  {
   "cell_type": "code",
   "execution_count": 27,
   "metadata": {},
   "outputs": [
    {
     "name": "stdout",
     "output_type": "stream",
     "text": [
      "Baseline MAE:  5.29374\n"
     ]
    }
   ],
   "source": [
    "from sklearn.metrics import mean_squared_error\n",
    "ypred = [ytrain.mean()] * len(ytrain)\n",
    "print(\"Baseline MAE: \", round(mean_squared_error(ytrain, ypred), 5))"
   ]
  },
  {
   "cell_type": "markdown",
   "metadata": {},
   "source": [
    "### Training Model To Predict Weather\n",
    "\n",
    "To predict weather with Machine Learning we will train a **Random Forest algorithm** which is capable of performing both the tasks of Classification as well as **Regression**:"
   ]
  },
  {
   "cell_type": "code",
   "execution_count": 30,
   "metadata": {},
   "outputs": [
    {
     "data": {
      "text/plain": [
       "Pipeline(steps=[('selectkbest', SelectKBest(k='all')),\n",
       "                ('standardscaler', StandardScaler()),\n",
       "                ('randomforestregressor',\n",
       "                 RandomForestRegressor(max_depth=50, n_jobs=-1,\n",
       "                                       random_state=77))])"
      ]
     },
     "execution_count": 30,
     "metadata": {},
     "output_type": "execute_result"
    }
   ],
   "source": [
    "from sklearn.feature_selection import SelectKBest\n",
    "from sklearn.ensemble import RandomForestRegressor\n",
    "from sklearn.pipeline import make_pipeline\n",
    "from sklearn.preprocessing import StandardScaler\n",
    "\n",
    "forest = make_pipeline(\n",
    "    SelectKBest(k=\"all\"),\n",
    "    StandardScaler(),\n",
    "    RandomForestRegressor(\n",
    "        n_estimators=100,\n",
    "        max_depth=50,\n",
    "        random_state=77,\n",
    "        n_jobs=-1\n",
    "    )\n",
    ")\n",
    "forest.fit(xtrain, ytrain)"
   ]
  },
  {
   "cell_type": "markdown",
   "metadata": {},
   "source": [
    "### Model Evaluation \n",
    "\n",
    "To put our predictions in perspective, we can calculate a precision using the average percentage error subtracted from 100%:"
   ]
  },
  {
   "cell_type": "code",
   "execution_count": 34,
   "metadata": {},
   "outputs": [
    {
     "data": {
      "text/plain": [
       "pandas.core.series.Series"
      ]
     },
     "execution_count": 34,
     "metadata": {},
     "output_type": "execute_result"
    }
   ],
   "source": [
    "type(ypred)\n",
    "type(yval)"
   ]
  },
  {
   "cell_type": "code",
   "execution_count": 42,
   "metadata": {},
   "outputs": [
    {
     "name": "stdout",
     "output_type": "stream",
     "text": [
      "Random Forest Model:  96.56 %\n"
     ]
    }
   ],
   "source": [
    "import numpy as np\n",
    "errors = abs(pd.Series(ypred).values - ytrain.values)\n",
    "mape = 100 * (errors/ytrain)\n",
    "accuracy = 100 - np.mean(mape)\n",
    "print(\"Random Forest Model: \", round(accuracy, 2), \"%\")"
   ]
  },
  {
   "cell_type": "markdown",
   "metadata": {},
   "source": [
    "Our model has learned to predict weather conditions with machine learning for next year with 96.56% accuracy. "
   ]
  },
  {
   "cell_type": "code",
   "execution_count": null,
   "metadata": {},
   "outputs": [],
   "source": []
  }
 ],
 "metadata": {
  "kernelspec": {
   "display_name": "Python 3",
   "language": "python",
   "name": "python3"
  },
  "language_info": {
   "codemirror_mode": {
    "name": "ipython",
    "version": 3
   },
   "file_extension": ".py",
   "mimetype": "text/x-python",
   "name": "python",
   "nbconvert_exporter": "python",
   "pygments_lexer": "ipython3",
   "version": "3.7.6"
  }
 },
 "nbformat": 4,
 "nbformat_minor": 4
}
