{
 "cells": [
  {
   "cell_type": "markdown",
   "metadata": {},
   "source": [
    "An [audiobook](https://en.wikipedia.org/wiki/Audiobook) is a recording or voiceover of a book or other work read aloud. We can listen to audiobooks on any smartphone, tablet, computer, home speaker system, or in-car entertainment system. \n",
    "\n",
    "In this file, we will create an audiobook with Python. We don’t need to buy a subscription for an audiobook if we have a pdf of the book. "
   ]
  },
  {
   "cell_type": "markdown",
   "metadata": {},
   "source": [
    "Python has a large collection of libraries due to the very active community which serves various purposes. Here we need to use two libraries; \n",
    "* `pyttsx3` and \n",
    "* `PyPDF2` to create an audiobook with Python.\n",
    "\n",
    "Both the above libraries can be easily installed by using the **pip** command; `pip install PyPDF2`, `pip install pyttsx3`."
   ]
  },
  {
   "cell_type": "code",
   "execution_count": 9,
   "metadata": {},
   "outputs": [],
   "source": [
    "# !pip install PyPDF2\n",
    "# !pip install pyttsx3==2.71 # !pip install pyttsx3"
   ]
  },
  {
   "cell_type": "markdown",
   "metadata": {},
   "source": [
    "### Reading the PDF File\n",
    "\n",
    "**PyPDF2** allows manipulation of pdf in memory. This python library is capable of tasks such as:\n",
    "\n",
    "* extract information about the document, such as title, author, etc.\n",
    "* document division by page\n",
    "* merge documents per page\n",
    "* cropping pages\n",
    "* merge multiple pages into one page\n",
    "* encrypt and decrypt PDF files and more.\n",
    "\n",
    "We will use this library to \n",
    "* split the pdf file page by page,\n",
    "* then read the text on each page, \n",
    "* finally send the text to the next step in the process to create an audiobook."
   ]
  },
  {
   "cell_type": "code",
   "execution_count": 18,
   "metadata": {},
   "outputs": [],
   "source": [
    "import PyPDF2\n",
    "pdfReader = PyPDF2.PdfFileReader(open('sample.pdf', 'rb'))"
   ]
  },
  {
   "cell_type": "markdown",
   "metadata": {},
   "source": [
    "The **pyttsx3** library is capable of converting text to speech offline. The text that we read from a pdf is then fed as an input to the **text-to-speech engine**:"
   ]
  },
  {
   "cell_type": "code",
   "execution_count": 19,
   "metadata": {},
   "outputs": [],
   "source": [
    "import pyttsx3\n",
    "speaker = pyttsx3.init()"
   ]
  },
  {
   "cell_type": "markdown",
   "metadata": {},
   "source": [
    "Now the next step in the process is to loop the process for each page of the pdf file and stop the **pyttsx3** speaker engine last:"
   ]
  },
  {
   "cell_type": "code",
   "execution_count": null,
   "metadata": {},
   "outputs": [
    {
     "name": "stdout",
     "output_type": "stream",
     "text": [
      " A Simple PDF File  This is a small demonstration .pdf file -  just for use in the Virtual Mechanics tutorials. More text. And more  text. And more text. And more text. And more text.  And more text. And more text. And more text. And more text. And more  text. And more text. Boring, zzzzz. And more text. And more text. And  more text. And more text. And more text. And more text. And more text.  And more text. And more text.  And more text. And more text. And more text. And more text. And more  text. And more text. And more text. Even more. Continued on page 2 ...\n"
     ]
    }
   ],
   "source": [
    "for page_num in range(pdfReader.numPages):\n",
    "    text =  pdfReader.getPage(page_num).extractText()\n",
    "    print(text)\n",
    "    speaker.say(text)\n",
    "    speaker.runAndWait()\n",
    "speaker.stop()"
   ]
  },
  {
   "cell_type": "markdown",
   "metadata": {},
   "source": [
    "Next step is to save the audio as mp3 file:"
   ]
  },
  {
   "cell_type": "code",
   "execution_count": null,
   "metadata": {},
   "outputs": [],
   "source": [
    "text"
   ]
  },
  {
   "cell_type": "code",
   "execution_count": null,
   "metadata": {},
   "outputs": [],
   "source": [
    "engine = pyttsx3.init()\n",
    "engine.save_to_file(text, 'audio.mp3')\n",
    "engine.runAndWait()"
   ]
  },
  {
   "cell_type": "markdown",
   "metadata": {},
   "source": [
    "This is how we can build an audiobook with Python in a few lines of code."
   ]
  },
  {
   "cell_type": "code",
   "execution_count": null,
   "metadata": {},
   "outputs": [],
   "source": []
  }
 ],
 "metadata": {
  "kernelspec": {
   "display_name": "Python 3",
   "language": "python",
   "name": "python3"
  },
  "language_info": {
   "codemirror_mode": {
    "name": "ipython",
    "version": 3
   },
   "file_extension": ".py",
   "mimetype": "text/x-python",
   "name": "python",
   "nbconvert_exporter": "python",
   "pygments_lexer": "ipython3",
   "version": "3.7.6"
  }
 },
 "nbformat": 4,
 "nbformat_minor": 4
}
