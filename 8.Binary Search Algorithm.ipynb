{
 "cells": [
  {
   "cell_type": "markdown",
   "metadata": {},
   "source": [
    "In this file, we will take implement a binary search algorithm with python. Binary search also called half-interval search, which is an algorithm used in computers systems to find the position of a value in a sorted array."
   ]
  },
  {
   "cell_type": "markdown",
   "metadata": {},
   "source": [
    "### What is Binary Search Algorithm?\n",
    "\n",
    "In a binary search algorithm, the list is split in half and then searched in each half. One thing to notice while implementing the binary search algorithm is that the list must be sorted before running the algorithm.\n",
    "\n",
    "* The list is then split into two halves by the index, \n",
    "* find the element in the middle(m) of the list,\n",
    "* then start at **m-1** is a list and **m+1** at the end is another list, \n",
    "* check if the element is at the middle,higher or lower than this and \n",
    "* return the appropriate position of the key element to find."
   ]
  },
  {
   "cell_type": "markdown",
   "metadata": {},
   "source": [
    "### How Binary Search Works?\n",
    "\n",
    "Let’s say we have a list of 10,000 items. The element we are looking for is in the 9000th place. If we implement any other search algorithm in this scenario, it will take a long time to give us the result. Because the algorithm has to check every item in the list."
   ]
  },
  {
   "cell_type": "markdown",
   "metadata": {},
   "source": [
    "So we first need to specify the lower limit and the upper limit. The lower limit is the first index in the list and the upper limit is the last index in the list. Once we finish assigning the lower and upper limits, the next thing we have to find a mid-index.\n",
    "\n",
    "**Mid index = (Lower limit + Upper Limit)/2**\n",
    "\n",
    "Now let’s specify the item we need to find in our list. Let’s say we need to find number 90 in our list. Now let’s create a binary search algorithm with Python to find the number 90 in a list:"
   ]
  },
  {
   "cell_type": "code",
   "execution_count": 1,
   "metadata": {},
   "outputs": [],
   "source": [
    "def search(list, n):\n",
    "    l = 0\n",
    "    u = len(list) - 1\n",
    "\n",
    "    while 1 <= u:\n",
    "        mid = (l + u) // 2\n",
    "\n",
    "        if list[mid] == n:\n",
    "            return True\n",
    "        else:\n",
    "            if list[mid] < n:\n",
    "                l = mid + 1\n",
    "            else:\n",
    "                u = mid - 1\n",
    "    return False"
   ]
  },
  {
   "cell_type": "code",
   "execution_count": 2,
   "metadata": {},
   "outputs": [
    {
     "name": "stdout",
     "output_type": "stream",
     "text": [
      "Found\n"
     ]
    }
   ],
   "source": [
    "list = [1, 3, 4, 7, 8, 9, 10, 45, 50, 90, 100, 150, 600, 1000]\n",
    "n = 90\n",
    "\n",
    "if search(list, n):\n",
    "    print(\"Found\")\n",
    "else:\n",
    "    print(\"Not Found\")"
   ]
  },
  {
   "cell_type": "markdown",
   "metadata": {},
   "source": [
    "This is how we do the binary search. If we have a huge list, this method will save our life. There is a major drawback to this method of research. We must have a sorted list if we want to search our list using binary search."
   ]
  },
  {
   "cell_type": "code",
   "execution_count": null,
   "metadata": {},
   "outputs": [],
   "source": []
  }
 ],
 "metadata": {
  "kernelspec": {
   "display_name": "Python 3",
   "language": "python",
   "name": "python3"
  },
  "language_info": {
   "codemirror_mode": {
    "name": "ipython",
    "version": 3
   },
   "file_extension": ".py",
   "mimetype": "text/x-python",
   "name": "python",
   "nbconvert_exporter": "python",
   "pygments_lexer": "ipython3",
   "version": "3.7.6"
  }
 },
 "nbformat": 4,
 "nbformat_minor": 4
}
